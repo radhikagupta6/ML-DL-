{
 "cells": [
  {
   "cell_type": "markdown",
   "metadata": {},
   "source": [
    "### Write a Python Program(with class concepts) to find the area of the triangle using the below formula. Area = (s*(s-a)*(s-b)*(s-c)) ** 0.5 Function to take the length of the sides of triangle from user should be defined in the parent class and function to calculate the area should be defined in subclass."
   ]
  },
  {
   "cell_type": "code",
   "execution_count": 11,
   "metadata": {},
   "outputs": [
    {
     "name": "stdout",
     "output_type": "stream",
     "text": [
      "a:6\n",
      "b:7\n",
      "c:8\n",
      "Area of the traingle is 20.33316256758894\n"
     ]
    }
   ],
   "source": [
    "a = int(input('a:'))\n",
    "b = int(input('b:'))\n",
    "c = int(input('c:'))\n",
    "\n",
    "class Sides:\n",
    "    def __init__(self, a,b,c):\n",
    "        self.a = float(a)\n",
    "        self.b = float(b)\n",
    "        self.c = float(c)\n",
    "        \n",
    "class triangle_area(Sides):\n",
    "    def __init__(self,a,b,c):\n",
    "        super().__init__(a,b,c)\n",
    "        \n",
    "    def area_tri(self):\n",
    "        s = (a + b + c) / 2\n",
    "        return (s*(s-a)*(s-b)*(s-c)) ** 0.5 \n",
    "\n",
    "t = triangle_area(a,b,c)\n",
    "print(\"Area of the traingle is {}\".format(t.area_tri()))"
   ]
  },
  {
   "cell_type": "markdown",
   "metadata": {},
   "source": [
    "### Write a function filter_long_words() that takes a list of words and an integer n and returns the list of words that are longer than n."
   ]
  },
  {
   "cell_type": "code",
   "execution_count": 17,
   "metadata": {},
   "outputs": [
    {
     "name": "stdout",
     "output_type": "stream",
     "text": [
      "Length limit of words :3\n",
      "Enter space separated list of words\n",
      "abcd,radhika,abc\n",
      "List of the words having length greater than 3 is: ['abcd', 'radhika']\n"
     ]
    }
   ],
   "source": [
    "n = int(input('Length limit of words :'))\n",
    "print('Enter comma separated list of words')\n",
    "li = [x for x in input().split(',')]\n",
    "def filter_long_words(n,li):\n",
    "    new_li = []\n",
    "    for i in li:\n",
    "        if len(i)>n:\n",
    "            new_li.append(i)\n",
    "    return new_li\n",
    "\n",
    "print('List of the words having length greater than {} is: {}'.format(n,filter_long_words(n,li)))"
   ]
  },
  {
   "cell_type": "markdown",
   "metadata": {},
   "source": [
    "### Write a Python program using function concept that maps list of words into a list of integers representing the lengths of the corresponding words.\n",
    "Hint: If a list [ ab,cde,erty] is passed on to the python function output should come as [2,3,4]\n",
    "Here 2,3 and 4 are the lengths of the words in the list."
   ]
  },
  {
   "cell_type": "code",
   "execution_count": 19,
   "metadata": {},
   "outputs": [
    {
     "name": "stdout",
     "output_type": "stream",
     "text": [
      "Enter comma separated list of words\n",
      "abc,radhika,prakhar\n",
      "Resulting list is [3, 7, 7]\n"
     ]
    }
   ],
   "source": [
    "print('Enter comma separated list of words')\n",
    "li = [x for x in input().split(',')]\n",
    "li2 = list(map(lambda i: len(i), li))\n",
    "print('Resulting list is {}'.format(li2))"
   ]
  },
  {
   "cell_type": "markdown",
   "metadata": {},
   "source": [
    "### Write a Python function which takes a character (i.e. a string of length 1) and returns True if it is a vowel, False otherwise."
   ]
  },
  {
   "cell_type": "code",
   "execution_count": 3,
   "metadata": {},
   "outputs": [
    {
     "name": "stdout",
     "output_type": "stream",
     "text": [
      "Enter a character:U\n",
      "Is the entered character a vowel ?  True\n"
     ]
    }
   ],
   "source": [
    "vowels = 'aeiouAEIOU'\n",
    "str1 = input('Enter a character:')\n",
    "def check(str1, vowels):\n",
    "    if str1 in vowels:\n",
    "        return True\n",
    "    else:\n",
    "        return False\n",
    "\n",
    "\n",
    "print('Is the entered character a vowel ? ', check(str1,vowels))"
   ]
  }
 ],
 "metadata": {
  "kernelspec": {
   "display_name": "Python 3",
   "language": "python",
   "name": "python3"
  },
  "language_info": {
   "codemirror_mode": {
    "name": "ipython",
    "version": 3
   },
   "file_extension": ".py",
   "mimetype": "text/x-python",
   "name": "python",
   "nbconvert_exporter": "python",
   "pygments_lexer": "ipython3",
   "version": "3.8.3"
  }
 },
 "nbformat": 4,
 "nbformat_minor": 4
}
