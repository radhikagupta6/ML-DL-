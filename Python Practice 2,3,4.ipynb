{
 "cells": [
  {
   "cell_type": "markdown",
   "metadata": {},
   "source": [
    "### Write a Python program to check if all dictionaries in a list are empty or not."
   ]
  },
  {
   "cell_type": "code",
   "execution_count": 1,
   "metadata": {},
   "outputs": [
    {
     "name": "stdout",
     "output_type": "stream",
     "text": [
      "False\n",
      "True\n"
     ]
    }
   ],
   "source": [
    "li1 = [{'abc':123},{},{}]\n",
    "li2 = [{},{},{}]\n",
    "print(all(not dictionaryy for dictionaryy in li1))\n",
    "print(all(not dictionaryy for dictionaryy in li2))"
   ]
  },
  {
   "cell_type": "markdown",
   "metadata": {},
   "source": [
    "### Write a Python program to remove duplicates from a list of lists."
   ]
  },
  {
   "cell_type": "code",
   "execution_count": 2,
   "metadata": {},
   "outputs": [
    {
     "data": {
      "text/plain": [
       "[[1, 2], [3], [4], [5, 6, 2]]"
      ]
     },
     "execution_count": 2,
     "metadata": {},
     "output_type": "execute_result"
    }
   ],
   "source": [
    "import itertools\n",
    "k = [[1, 2], [4], [5, 6, 2], [1, 2], [3], [4]]\n",
    "k.sort()\n",
    "list(k for k,_ in itertools.groupby(k))\n"
   ]
  },
  {
   "cell_type": "markdown",
   "metadata": {},
   "source": [
    "### Write a Python program to extend a list without append."
   ]
  },
  {
   "cell_type": "code",
   "execution_count": 3,
   "metadata": {},
   "outputs": [
    {
     "name": "stdout",
     "output_type": "stream",
     "text": [
      "[30, 90, 60, 30, 78, 60]\n"
     ]
    }
   ],
   "source": [
    "from itertools import *\n",
    "li = [30,90,60]\n",
    "\n",
    "print(list(chain(li,[30,78,60])))"
   ]
  },
  {
   "cell_type": "markdown",
   "metadata": {},
   "source": [
    "### Write a Python program to find the list in a list of lists whose sum of elements is the highest"
   ]
  },
  {
   "cell_type": "code",
   "execution_count": 4,
   "metadata": {},
   "outputs": [
    {
     "name": "stdout",
     "output_type": "stream",
     "text": [
      "[10, 11, 12]\n"
     ]
    }
   ],
   "source": [
    "num = [[1,2,3], [4,5,6], [10,11,12], [7,8,9]]\n",
    "print(max(num, key=sum))"
   ]
  },
  {
   "cell_type": "markdown",
   "metadata": {},
   "source": [
    "### Write a Python program to access dictionary key’s element by index."
   ]
  },
  {
   "cell_type": "code",
   "execution_count": 5,
   "metadata": {},
   "outputs": [
    {
     "name": "stdout",
     "output_type": "stream",
     "text": [
      "physics\n"
     ]
    }
   ],
   "source": [
    "num = {'physics': 80, 'math': 90, 'chemistry': 86}\n",
    "print(list(num)[0])"
   ]
  },
  {
   "cell_type": "markdown",
   "metadata": {},
   "source": [
    "### Write a Python program to iterate over two lists simultaneously."
   ]
  },
  {
   "cell_type": "code",
   "execution_count": 6,
   "metadata": {},
   "outputs": [
    {
     "name": "stdout",
     "output_type": "stream",
     "text": [
      "abc kk\n",
      "kaa asa\n",
      "abb 9\n"
     ]
    }
   ],
   "source": [
    "li1= ['abc','kaa','abb']\n",
    "li2= ['kk','asa',9]\n",
    "for a,b in zip(li1,li2):\n",
    "    print(a,b)"
   ]
  },
  {
   "cell_type": "markdown",
   "metadata": {},
   "source": [
    "### Write a program to insert a string at the beginning of every elements in a list."
   ]
  },
  {
   "cell_type": "code",
   "execution_count": 7,
   "metadata": {},
   "outputs": [
    {
     "name": "stdout",
     "output_type": "stream",
     "text": [
      "enter string to insertrad\n"
     ]
    },
    {
     "data": {
      "text/plain": [
       "['rad123', 'rad45', 'rad67', 'rad89', 'rad20', 'rad11', 'rad22', 'rad34']"
      ]
     },
     "execution_count": 7,
     "metadata": {},
     "output_type": "execute_result"
    }
   ],
   "source": [
    "s = input('enter string to insert')\n",
    "a = [123, 45, 67, 89, 20, 11, 22, 34]\n",
    "new_li = [s + str(x) for x in a ]\n",
    "new_li"
   ]
  },
  {
   "cell_type": "markdown",
   "metadata": {},
   "source": [
    "### write a program to take two lists and print if they have at least one common member"
   ]
  },
  {
   "cell_type": "code",
   "execution_count": 8,
   "metadata": {},
   "outputs": [
    {
     "name": "stdout",
     "output_type": "stream",
     "text": [
      "1,2,3,4\n",
      "6,7,8,9\n",
      "The two lists have something in common ? False\n"
     ]
    }
   ],
   "source": [
    "li1 = [int(x) for x in input().split(',')]\n",
    "li2 = [int(x) for x in input().split(',')]\n",
    "def com(li1,li2):\n",
    "    for i in li1:\n",
    "        for j in li2:\n",
    "            if i == j:\n",
    "                return True\n",
    "            else:\n",
    "                return False\n",
    "            \n",
    "print('The two lists have something in common ? {}'.format(com(li1,li2)))\n"
   ]
  },
  {
   "cell_type": "markdown",
   "metadata": {},
   "source": [
    "### compute all permutations in a list"
   ]
  },
  {
   "cell_type": "code",
   "execution_count": 12,
   "metadata": {},
   "outputs": [
    {
     "name": "stdout",
     "output_type": "stream",
     "text": [
      "[(2, 3, 4, 6), (2, 3, 6, 4), (2, 4, 3, 6), (2, 4, 6, 3), (2, 6, 3, 4), (2, 6, 4, 3), (3, 2, 4, 6), (3, 2, 6, 4), (3, 4, 2, 6), (3, 4, 6, 2), (3, 6, 2, 4), (3, 6, 4, 2), (4, 2, 3, 6), (4, 2, 6, 3), (4, 3, 2, 6), (4, 3, 6, 2), (4, 6, 2, 3), (4, 6, 3, 2), (6, 2, 3, 4), (6, 2, 4, 3), (6, 3, 2, 4), (6, 3, 4, 2), (6, 4, 2, 3), (6, 4, 3, 2)]\n"
     ]
    }
   ],
   "source": [
    "from itertools import *\n",
    "li = [2,3,4,6]\n",
    "print(list(itertools.permutations(li)))"
   ]
  },
  {
   "cell_type": "markdown",
   "metadata": {},
   "source": [
    "### Write a program to sort the dictionary according to the key element"
   ]
  },
  {
   "cell_type": "code",
   "execution_count": 14,
   "metadata": {},
   "outputs": [
    {
     "name": "stdout",
     "output_type": "stream",
     "text": [
      " alot : 56\n",
      " ata : 122\n",
      " yo : 42\n"
     ]
    }
   ],
   "source": [
    "d = {\n",
    "    'yo':'42',\n",
    "    'ata':'122',\n",
    "    'alot': '56',\n",
    "}\n",
    "\n",
    "for x in sorted(d):\n",
    "    print(' %s : %s' %(x, d[x]))\n",
    "    "
   ]
  },
  {
   "cell_type": "markdown",
   "metadata": {},
   "source": [
    "### Write a Python program to get a dictionary from an object's fields."
   ]
  },
  {
   "cell_type": "code",
   "execution_count": 17,
   "metadata": {},
   "outputs": [
    {
     "name": "stdout",
     "output_type": "stream",
     "text": [
      "{'x': 'abc', 'y': 'xyz', 'z': 'trx'}\n"
     ]
    }
   ],
   "source": [
    "class diobj(object):\n",
    "    def __init__(self):\n",
    "        self.x = 'abc'\n",
    "        self.y = 'xyz'\n",
    "        self.z = 'trx'\n",
    "\n",
    "test = diobj()\n",
    "print(test.__dict__)"
   ]
  },
  {
   "cell_type": "markdown",
   "metadata": {},
   "source": [
    "### write a program to remove duplicates from Dictionary."
   ]
  },
  {
   "cell_type": "code",
   "execution_count": 18,
   "metadata": {},
   "outputs": [
    {
     "name": "stdout",
     "output_type": "stream",
     "text": [
      "{'id1': {'name': ['Sara'], 'class': ['V'], 'subject_integration': ['english, math, science']}, 'id2': {'name': ['David'], 'class': ['V'], 'subject_integration': ['english, math, science']}, 'id4': {'name': ['Surya'], 'class': ['V'], 'subject_integration': ['english, math, science']}}\n"
     ]
    }
   ],
   "source": [
    "student_data = {'id1':\n",
    "{'name': ['Sara'],\n",
    "'class': ['V'],\n",
    "'subject_integration': ['english, math, science']\n",
    "},\n",
    "'id2':\n",
    "{'name': ['David'],\n",
    "'class': ['V'],\n",
    "'subject_integration': ['english, math, science']\n",
    "},\n",
    "'id3':\n",
    "{'name': ['Sara'],\n",
    "'class': ['V'],\n",
    "'subject_integration': ['english, math, science']\n",
    "},\n",
    "'id4':\n",
    "{'name': ['Surya'],\n",
    "'class': ['V'],\n",
    "'subject_integration': ['english, math, science']\n",
    "},\n",
    "}\n",
    "result = {}\n",
    "for key,value in student_data.items():\n",
    "    if value not in result.values():\n",
    "        result[key] = value\n",
    "        \n",
    "print(result)"
   ]
  },
  {
   "cell_type": "markdown",
   "metadata": {},
   "source": [
    "### write a program to combine two dictionary adding values for common keys"
   ]
  },
  {
   "cell_type": "code",
   "execution_count": 6,
   "metadata": {},
   "outputs": [
    {
     "name": "stdout",
     "output_type": "stream",
     "text": [
      "Counter({'f': 325, 'gk': 200, 'a': 112, 'c': 9})\n"
     ]
    }
   ],
   "source": [
    "from collections import Counter \n",
    "\n",
    "dict1 = {'a': 12, 'f': 25, 'c': 9} \n",
    "dict2 = {'a': 100, 'gk': 200, 'f': 300} \n",
    "            \n",
    "Cdict = Counter(dict1) + Counter(dict2) \n",
    "print(Cdict) "
   ]
  },
  {
   "cell_type": "markdown",
   "metadata": {},
   "source": [
    "### write a program to print all unique values from a dictionary in a list"
   ]
  },
  {
   "cell_type": "code",
   "execution_count": 11,
   "metadata": {},
   "outputs": [
    {
     "name": "stdout",
     "output_type": "stream",
     "text": [
      "['van', 'prak', 'radh', 'rad']\n"
     ]
    }
   ],
   "source": [
    "diction = {\n",
    "    'a':'rad',\n",
    "    'b':'rad',\n",
    "    'c':'prak',\n",
    "    'd':'radh',\n",
    "    'e':'van',\n",
    "}\n",
    "\n",
    "print(list(set(diction[key] for key in diction )))"
   ]
  }
 ],
 "metadata": {
  "kernelspec": {
   "display_name": "Python 3",
   "language": "python",
   "name": "python3"
  },
  "language_info": {
   "codemirror_mode": {
    "name": "ipython",
    "version": 3
   },
   "file_extension": ".py",
   "mimetype": "text/x-python",
   "name": "python",
   "nbconvert_exporter": "python",
   "pygments_lexer": "ipython3",
   "version": "3.8.3"
  }
 },
 "nbformat": 4,
 "nbformat_minor": 4
}
