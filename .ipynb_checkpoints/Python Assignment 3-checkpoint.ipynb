{
 "cells": [
  {
   "cell_type": "markdown",
   "metadata": {},
   "source": [
    "### Write a Python Program to implement your own myreduce() function which works exactly like Python's built-in function reduce()"
   ]
  },
  {
   "cell_type": "code",
   "execution_count": 5,
   "metadata": {},
   "outputs": [
    {
     "name": "stdout",
     "output_type": "stream",
     "text": [
      "Enter n for sum of numbers upto n :8\n",
      "sum of natural numbers upto 8 is 36\n"
     ]
    }
   ],
   "source": [
    "def myreduce(n):\n",
    "    li = list(range(1,n+1))\n",
    "    sum_total = 0\n",
    "    for x in li:\n",
    "        sum_total += x\n",
    "    return sum_total\n",
    "\n",
    "\n",
    "num = int(input('Enter n for sum of numbers upto n :'))\n",
    "result = myreduce(num)\n",
    "\n",
    "print('sum of natural numbers upto {} is {}'.format(num,result))"
   ]
  },
  {
   "cell_type": "code",
   "execution_count": 6,
   "metadata": {},
   "outputs": [
    {
     "name": "stdout",
     "output_type": "stream",
     "text": [
      "Enter n for sum of numbers upto n :8\n"
     ]
    },
    {
     "data": {
      "text/plain": [
       "36"
      ]
     },
     "execution_count": 6,
     "metadata": {},
     "output_type": "execute_result"
    }
   ],
   "source": [
    "# using default reduce function \n",
    "from functools import reduce\n",
    "num = int(input('Enter n for sum of numbers upto n :'))\n",
    "li = list(range(1,num+1))\n",
    "reduce(lambda x,y: x+y, li)"
   ]
  },
  {
   "cell_type": "markdown",
   "metadata": {},
   "source": [
    "### Write a Python program to implement your own myfilter() function which works exactly like Python's built-in function filter()"
   ]
  },
  {
   "cell_type": "code",
   "execution_count": 8,
   "metadata": {},
   "outputs": [
    {
     "name": "stdout",
     "output_type": "stream",
     "text": [
      "Enter n for getting even numbers upto n:9\n",
      "List of even numbers upto 9 is: [2, 4, 6, 8]\n"
     ]
    }
   ],
   "source": [
    "def myfilter(n):\n",
    "    li = list(range(1,n+1))\n",
    "    even_li = []\n",
    "    for x in li:\n",
    "        if x%2==0:\n",
    "            even_li.append(x)\n",
    "    return even_li\n",
    "\n",
    "num = int(input('Enter n for getting even numbers upto n:'))\n",
    "result = myfilter(num)\n",
    "\n",
    "print('List of even numbers upto {} is: {}'.format(num,result))"
   ]
  },
  {
   "cell_type": "code",
   "execution_count": 11,
   "metadata": {},
   "outputs": [
    {
     "name": "stdout",
     "output_type": "stream",
     "text": [
      "Enter n for getting even numbers upto n:9\n",
      "List of even numbers upto 9 is: [2, 4, 6, 8]\n"
     ]
    }
   ],
   "source": [
    "# using default filter function \n",
    "num = int(input('Enter n for getting even numbers upto n:'))\n",
    "li = list(range(1,num+1))\n",
    "even_li = list(filter(lambda x: x%2==0, li))\n",
    "print('List of even numbers upto {} is: {}'.format(num,even_li))"
   ]
  },
  {
   "cell_type": "markdown",
   "metadata": {},
   "source": [
    "### Implement List comprehensions to produce the following lists. <br>\n",
    "#### Write List comprehensions to produce the following Lists <br>\n",
    "['x', 'xx', 'xxx', 'xxxx', 'y', 'yy', 'yyy', 'yyyy', 'z', 'zz', 'zzz', 'zzzz'] <br>\n",
    "['x', 'y', 'z', 'xx', 'yy', 'zz', 'xxx', 'yyy', 'zzz', 'xxxx', 'yyyy', 'zzzz']<br>\n",
    "[[2], [3], [4], [3], [4], [5], [4], [5], [6]]<br> [[2, 3, 4, 5], [3, 4, 5, 6],\n",
    "[4, 5, 6, 7], [5, 6, 7, 8]]<br>\n",
    "[(1, 1), (2, 1), (3, 1), (1, 2), (2, 2), (3, 2), (1, 3), (2, 3), (3, 3)]<br>"
   ]
  },
  {
   "cell_type": "code",
   "execution_count": 15,
   "metadata": {},
   "outputs": [
    {
     "name": "stdout",
     "output_type": "stream",
     "text": [
      "List 1 :  ['x', 'xx', 'xxx', 'xxxx', 'y', 'yy', 'yyy', 'yyyy', 'z', 'zz', 'zzz', 'zzzz']\n",
      "List 2 :  ['x', 'y', 'z', 'xx', 'yy', 'zz', 'xxx', 'yyy', 'zzz', 'xxxx', 'yyyy', 'zzzz']\n",
      "List 3 :  [[2], [3], [4], [3], [4], [5], [4], [5], [6]]\n",
      "List 4 :  [[2, 3, 4, 5], [3, 4, 5, 6], [4, 5, 6, 7], [5, 6, 7, 8]]\n",
      "List 5 :  [(1, 1), (2, 1), (3, 1), (1, 2), (2, 2), (3, 2), (1, 3), (2, 3), (3, 3)]\n"
     ]
    }
   ],
   "source": [
    "#list 1\n",
    "w = 'xyz'\n",
    "li1= [i*n for i in w for n in range(1,5)]\n",
    "print('List 1 : ',li1)\n",
    "\n",
    "#list 2\n",
    "li2 = [i*n for n in range(1,5) for i in w]\n",
    "print('List 2 : ',li2)\n",
    "\n",
    "#list 3\n",
    "w2 = [2,3,4]\n",
    "li3 = [[i+n] for n in range(0,3) for i in w2]\n",
    "print('List 3 : ',li3)\n",
    "\n",
    "#list 4\n",
    "w3 = [2,3,4,5]\n",
    "li4 = [[i+n for n in range(0,4)] for i in w3]\n",
    "print('List 4 : ',li4)\n",
    "\n",
    "#list 5 \n",
    "li5 = [(i,j) for j in range(1,4) for i in range(1,4) ]\n",
    "print('List 5 : ', li5)\n"
   ]
  }
 ],
 "metadata": {
  "kernelspec": {
   "display_name": "Python 3",
   "language": "python",
   "name": "python3"
  },
  "language_info": {
   "codemirror_mode": {
    "name": "ipython",
    "version": 3
   },
   "file_extension": ".py",
   "mimetype": "text/x-python",
   "name": "python",
   "nbconvert_exporter": "python",
   "pygments_lexer": "ipython3",
   "version": "3.8.3"
  }
 },
 "nbformat": 4,
 "nbformat_minor": 4
}
